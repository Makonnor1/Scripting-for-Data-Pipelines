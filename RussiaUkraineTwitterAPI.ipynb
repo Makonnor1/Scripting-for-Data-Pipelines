{
 "cells": [
  {
   "cell_type": "code",
   "execution_count": 314,
   "id": "a516e52a",
   "metadata": {},
   "outputs": [],
   "source": [
    "# Import packages needed for assignment\n",
    "import tweepy\n",
    "from tweepy import OAuthHandler\n",
    "import pandas as pd"
   ]
  },
  {
   "cell_type": "code",
   "execution_count": 315,
   "id": "6893be89",
   "metadata": {},
   "outputs": [],
   "source": [
    "# enter unqiue twitter access and consumer credentials\n",
    "access_token = '1480630641293201408-6uNEzaeid66kaYI8WdbrcHW207v5sS'\n",
    "access_token_secret = '0d3EPQQxfzpiZ85g9hGCCLaWC5APF2KbB8EFoRUACUaKO'\n",
    "consumer_key = 'TtGEhxNpZkSB0RDgqPKoywit2'\n",
    "consumer_secret = 'gApD0KLktLzB6NzezTg6saOPXCJNIk4v1sZmkoaEUZjx62CtHJ'"
   ]
  },
  {
   "cell_type": "code",
   "execution_count": 316,
   "id": "e4ff7e68",
   "metadata": {},
   "outputs": [],
   "source": [
    "# Create tweepy AuthHandler w tweetsitter credentials\n",
    "auth = tweepy.OAuthHandler(consumer_key, consumer_secret)\n",
    "auth.set_access_token(access_token, access_token_secret)"
   ]
  },
  {
   "cell_type": "code",
   "execution_count": 317,
   "id": "d23c6ce8",
   "metadata": {},
   "outputs": [],
   "source": [
    "# define tweepy api\n",
    "api = tweepy.API(auth, wait_on_rate_limit=True)"
   ]
  },
  {
   "cell_type": "code",
   "execution_count": 318,
   "id": "d7d3a3d5",
   "metadata": {},
   "outputs": [],
   "source": [
    "# define tweets criteria to pull for pro Ukrainian\n",
    "TW = tweepy.Cursor(api.search_tweets, q=\"#SupportUkraine\", lang=\"en\", since_id = \"02/24/2022\", tweet_mode='extended').items(500)"
   ]
  },
  {
   "cell_type": "code",
   "execution_count": 319,
   "id": "3bd20186",
   "metadata": {},
   "outputs": [],
   "source": [
    "# create tweets list\n",
    "TWL = [tweet for tweet in TW]"
   ]
  },
  {
   "cell_type": "code",
   "execution_count": 320,
   "id": "905d4347",
   "metadata": {},
   "outputs": [],
   "source": [
    "# create pandas dataframe for later importing of data\n",
    "TWDF = pd.DataFrame(columns=['username', 'retweetcount', 'text', 'hashtags', 'created_at', 'account_created', 'following', 'followers'])"
   ]
  },
  {
   "cell_type": "code",
   "execution_count": 321,
   "id": "9c198bee",
   "metadata": {},
   "outputs": [],
   "source": [
    "# set x equal to one\n",
    "x = 1"
   ]
  },
  {
   "cell_type": "code",
   "execution_count": 322,
   "id": "241e0859",
   "metadata": {},
   "outputs": [],
   "source": [
    "# create function to scrape tweets info based on our criteria and load into our pandas dataframe\n",
    "for tweet in TWL:\n",
    "                account_created = tweet.user.created_at\n",
    "                following = tweet.user.friends_count\n",
    "                followers = tweet.user.followers_count\n",
    "                username = tweet.user.screen_name\n",
    "                retweetcount = tweet.retweet_count\n",
    "                hashtags = tweet.entities['hashtags']\n",
    "                created_at = tweet.created_at\n",
    "            \n",
    "                try:\n",
    "                        text = tweet.retweeted_status.full_text\n",
    "                except AttributeError:\n",
    "                        text = tweet.full_text\n",
    "                hashtext = list()\n",
    "                for j in range(0, len(hashtags)):\n",
    "                        hashtext.append(hashtags[j]['text'])\n",
    " \n",
    "                xth = [username,\n",
    "                             retweetcount, text, hashtext, created_at, account_created, following, followers]\n",
    "                TWDF.loc[len(TWDF)] = xth"
   ]
  },
  {
   "cell_type": "code",
   "execution_count": 323,
   "id": "e027bdca",
   "metadata": {},
   "outputs": [],
   "source": [
    "# drop all rows that contain any null values\n",
    "TWDF = TWDF.dropna(how='any',axis=0) "
   ]
  },
  {
   "cell_type": "code",
   "execution_count": 324,
   "id": "b8b49aba",
   "metadata": {},
   "outputs": [
    {
     "data": {
      "text/html": [
       "<div>\n",
       "<style scoped>\n",
       "    .dataframe tbody tr th:only-of-type {\n",
       "        vertical-align: middle;\n",
       "    }\n",
       "\n",
       "    .dataframe tbody tr th {\n",
       "        vertical-align: top;\n",
       "    }\n",
       "\n",
       "    .dataframe thead th {\n",
       "        text-align: right;\n",
       "    }\n",
       "</style>\n",
       "<table border=\"1\" class=\"dataframe\">\n",
       "  <thead>\n",
       "    <tr style=\"text-align: right;\">\n",
       "      <th></th>\n",
       "      <th>username</th>\n",
       "      <th>retweetcount</th>\n",
       "      <th>text</th>\n",
       "      <th>hashtags</th>\n",
       "      <th>created_at</th>\n",
       "      <th>account_created</th>\n",
       "      <th>following</th>\n",
       "      <th>followers</th>\n",
       "    </tr>\n",
       "  </thead>\n",
       "  <tbody>\n",
       "    <tr>\n",
       "      <th>0</th>\n",
       "      <td>TomassettiArt</td>\n",
       "      <td>1</td>\n",
       "      <td>Thank you to those who helped make this happen...</td>\n",
       "      <td>[]</td>\n",
       "      <td>2022-02-28 23:39:50+00:00</td>\n",
       "      <td>2014-05-05 17:06:36+00:00</td>\n",
       "      <td>1356</td>\n",
       "      <td>578</td>\n",
       "    </tr>\n",
       "    <tr>\n",
       "      <th>1</th>\n",
       "      <td>ragingmomslover</td>\n",
       "      <td>380</td>\n",
       "      <td>‼️‼️‼️ RED CROSS UKRAINE OPENED BANK DETAILS T...</td>\n",
       "      <td>[]</td>\n",
       "      <td>2022-02-28 23:39:38+00:00</td>\n",
       "      <td>2021-09-13 21:52:27+00:00</td>\n",
       "      <td>42</td>\n",
       "      <td>6</td>\n",
       "    </tr>\n",
       "    <tr>\n",
       "      <th>2</th>\n",
       "      <td>DinoDeccy</td>\n",
       "      <td>0</td>\n",
       "      <td>Who needs Salt Bae, when Sunflower Bae is bett...</td>\n",
       "      <td>[supportukraine, fuckrussia, peace]</td>\n",
       "      <td>2022-02-28 23:39:35+00:00</td>\n",
       "      <td>2022-02-28 23:32:14+00:00</td>\n",
       "      <td>4</td>\n",
       "      <td>0</td>\n",
       "    </tr>\n",
       "    <tr>\n",
       "      <th>3</th>\n",
       "      <td>vgrade</td>\n",
       "      <td>7</td>\n",
       "      <td>#StandWithUkraine \\nDM to enquire.  All procee...</td>\n",
       "      <td>[StandWithUkraine]</td>\n",
       "      <td>2022-02-28 23:39:27+00:00</td>\n",
       "      <td>2008-01-13 23:33:14+00:00</td>\n",
       "      <td>2963</td>\n",
       "      <td>1382</td>\n",
       "    </tr>\n",
       "    <tr>\n",
       "      <th>4</th>\n",
       "      <td>AleksandraPH</td>\n",
       "      <td>49</td>\n",
       "      <td>The Ukrainian Red Cross evacuate civilians fro...</td>\n",
       "      <td>[]</td>\n",
       "      <td>2022-02-28 23:39:07+00:00</td>\n",
       "      <td>2014-07-30 23:16:47+00:00</td>\n",
       "      <td>5000</td>\n",
       "      <td>1156</td>\n",
       "    </tr>\n",
       "    <tr>\n",
       "      <th>...</th>\n",
       "      <td>...</td>\n",
       "      <td>...</td>\n",
       "      <td>...</td>\n",
       "      <td>...</td>\n",
       "      <td>...</td>\n",
       "      <td>...</td>\n",
       "      <td>...</td>\n",
       "      <td>...</td>\n",
       "    </tr>\n",
       "    <tr>\n",
       "      <th>495</th>\n",
       "      <td>asspollys</td>\n",
       "      <td>0</td>\n",
       "      <td>the best! @StephenKing thanks for your support...</td>\n",
       "      <td>[WarCrimes, StephenKing, StopWarInUkraine, Put...</td>\n",
       "      <td>2022-02-28 22:19:20+00:00</td>\n",
       "      <td>2022-01-02 14:43:03+00:00</td>\n",
       "      <td>18</td>\n",
       "      <td>1</td>\n",
       "    </tr>\n",
       "    <tr>\n",
       "      <th>496</th>\n",
       "      <td>elnazaro777</td>\n",
       "      <td>65</td>\n",
       "      <td>The Berdyansk village's territorial defense un...</td>\n",
       "      <td>[]</td>\n",
       "      <td>2022-02-28 22:19:17+00:00</td>\n",
       "      <td>2015-03-31 20:43:11+00:00</td>\n",
       "      <td>195</td>\n",
       "      <td>10701</td>\n",
       "    </tr>\n",
       "    <tr>\n",
       "      <th>497</th>\n",
       "      <td>Dragonatorul</td>\n",
       "      <td>7751</td>\n",
       "      <td>Donate to support the Ukrainian Red Cross and ...</td>\n",
       "      <td>[]</td>\n",
       "      <td>2022-02-28 22:19:10+00:00</td>\n",
       "      <td>2010-06-02 18:32:21+00:00</td>\n",
       "      <td>934</td>\n",
       "      <td>6</td>\n",
       "    </tr>\n",
       "    <tr>\n",
       "      <th>498</th>\n",
       "      <td>tokencomics</td>\n",
       "      <td>0</td>\n",
       "      <td>-\\nLast day to qualify for an #Airdrop #NFT fr...</td>\n",
       "      <td>[Airdrop, NFT, SupportUKraine, Cardano]</td>\n",
       "      <td>2022-02-28 22:18:58+00:00</td>\n",
       "      <td>2020-09-02 01:01:52+00:00</td>\n",
       "      <td>230</td>\n",
       "      <td>805</td>\n",
       "    </tr>\n",
       "    <tr>\n",
       "      <th>499</th>\n",
       "      <td>Heimatplanet</td>\n",
       "      <td>7751</td>\n",
       "      <td>Donate to support the Ukrainian Red Cross and ...</td>\n",
       "      <td>[]</td>\n",
       "      <td>2022-02-28 22:18:55+00:00</td>\n",
       "      <td>2011-04-04 14:17:27+00:00</td>\n",
       "      <td>150</td>\n",
       "      <td>20</td>\n",
       "    </tr>\n",
       "  </tbody>\n",
       "</table>\n",
       "<p>500 rows × 8 columns</p>\n",
       "</div>"
      ],
      "text/plain": [
       "            username retweetcount  \\\n",
       "0      TomassettiArt            1   \n",
       "1    ragingmomslover          380   \n",
       "2          DinoDeccy            0   \n",
       "3             vgrade            7   \n",
       "4       AleksandraPH           49   \n",
       "..               ...          ...   \n",
       "495        asspollys            0   \n",
       "496      elnazaro777           65   \n",
       "497     Dragonatorul         7751   \n",
       "498      tokencomics            0   \n",
       "499     Heimatplanet         7751   \n",
       "\n",
       "                                                  text  \\\n",
       "0    Thank you to those who helped make this happen...   \n",
       "1    ‼️‼️‼️ RED CROSS UKRAINE OPENED BANK DETAILS T...   \n",
       "2    Who needs Salt Bae, when Sunflower Bae is bett...   \n",
       "3    #StandWithUkraine \\nDM to enquire.  All procee...   \n",
       "4    The Ukrainian Red Cross evacuate civilians fro...   \n",
       "..                                                 ...   \n",
       "495  the best! @StephenKing thanks for your support...   \n",
       "496  The Berdyansk village's territorial defense un...   \n",
       "497  Donate to support the Ukrainian Red Cross and ...   \n",
       "498  -\\nLast day to qualify for an #Airdrop #NFT fr...   \n",
       "499  Donate to support the Ukrainian Red Cross and ...   \n",
       "\n",
       "                                              hashtags  \\\n",
       "0                                                   []   \n",
       "1                                                   []   \n",
       "2                  [supportukraine, fuckrussia, peace]   \n",
       "3                                   [StandWithUkraine]   \n",
       "4                                                   []   \n",
       "..                                                 ...   \n",
       "495  [WarCrimes, StephenKing, StopWarInUkraine, Put...   \n",
       "496                                                 []   \n",
       "497                                                 []   \n",
       "498            [Airdrop, NFT, SupportUKraine, Cardano]   \n",
       "499                                                 []   \n",
       "\n",
       "                   created_at           account_created following followers  \n",
       "0   2022-02-28 23:39:50+00:00 2014-05-05 17:06:36+00:00      1356       578  \n",
       "1   2022-02-28 23:39:38+00:00 2021-09-13 21:52:27+00:00        42         6  \n",
       "2   2022-02-28 23:39:35+00:00 2022-02-28 23:32:14+00:00         4         0  \n",
       "3   2022-02-28 23:39:27+00:00 2008-01-13 23:33:14+00:00      2963      1382  \n",
       "4   2022-02-28 23:39:07+00:00 2014-07-30 23:16:47+00:00      5000      1156  \n",
       "..                        ...                       ...       ...       ...  \n",
       "495 2022-02-28 22:19:20+00:00 2022-01-02 14:43:03+00:00        18         1  \n",
       "496 2022-02-28 22:19:17+00:00 2015-03-31 20:43:11+00:00       195     10701  \n",
       "497 2022-02-28 22:19:10+00:00 2010-06-02 18:32:21+00:00       934         6  \n",
       "498 2022-02-28 22:18:58+00:00 2020-09-02 01:01:52+00:00       230       805  \n",
       "499 2022-02-28 22:18:55+00:00 2011-04-04 14:17:27+00:00       150        20  \n",
       "\n",
       "[500 rows x 8 columns]"
      ]
     },
     "execution_count": 324,
     "metadata": {},
     "output_type": "execute_result"
    }
   ],
   "source": [
    "# examine data in dataframe\n",
    "TWDF"
   ]
  },
  {
   "cell_type": "code",
   "execution_count": 325,
   "id": "5403d8a7",
   "metadata": {},
   "outputs": [],
   "source": [
    "# define tweets criteria to pull for Pro Russian tweets\n",
    "TW2 = tweepy.Cursor(api.search_tweets, q=\"#SupportRussia\", lang=\"en\", since_id = \"02/24/2022\", tweet_mode='extended').items(500)"
   ]
  },
  {
   "cell_type": "code",
   "execution_count": 326,
   "id": "84067d79",
   "metadata": {},
   "outputs": [],
   "source": [
    "# create tweets list2\n",
    "TWL2 = [tweet for tweet in TW2]"
   ]
  },
  {
   "cell_type": "code",
   "execution_count": 327,
   "id": "ddc71956",
   "metadata": {},
   "outputs": [],
   "source": [
    "# create pandas dataframe2 for later importing of data\n",
    "TWDF2 = pd.DataFrame(columns=['username', 'retweetcount', 'text', 'hashtags', 'created_at', 'account_created', 'following', 'followers'])"
   ]
  },
  {
   "cell_type": "code",
   "execution_count": 328,
   "id": "0a60253b",
   "metadata": {},
   "outputs": [],
   "source": [
    "# set i equal to one\n",
    "x = 1"
   ]
  },
  {
   "cell_type": "code",
   "execution_count": 329,
   "id": "7e138184",
   "metadata": {},
   "outputs": [],
   "source": [
    "# create function to scrape tweets info based on our criteria and load into our pandas dataframe\n",
    "for tweet in TWL2:\n",
    "                created_at = tweet.created_at\n",
    "                account_created = tweet.user.created_at\n",
    "                following = tweet.user.friends_count\n",
    "                followers = tweet.user.followers_count\n",
    "                username = tweet.user.screen_name\n",
    "                retweetcount = tweet.retweet_count\n",
    "                hashtags = tweet.entities['hashtags']\n",
    "            \n",
    "                try:\n",
    "                        text = tweet.retweeted_status.full_text\n",
    "                except AttributeError:\n",
    "                        text = tweet.full_text\n",
    "                hashtext = list()\n",
    "                for j in range(0, len(hashtags)):\n",
    "                        hashtext.append(hashtags[j]['text'])\n",
    " \n",
    "                xth2 = [username,\n",
    "                             retweetcount, text, hashtext, created_at, account_created, following, followers]\n",
    "                TWDF2.loc[len(TWDF2)] = xth2"
   ]
  },
  {
   "cell_type": "code",
   "execution_count": 330,
   "id": "b1a0acc4",
   "metadata": {},
   "outputs": [],
   "source": [
    "# drop all rows that contain any null values\n",
    "TWDF2 = TWDF2.dropna(how='any',axis=0)"
   ]
  },
  {
   "cell_type": "code",
   "execution_count": 331,
   "id": "e0654d25",
   "metadata": {},
   "outputs": [
    {
     "data": {
      "text/html": [
       "<div>\n",
       "<style scoped>\n",
       "    .dataframe tbody tr th:only-of-type {\n",
       "        vertical-align: middle;\n",
       "    }\n",
       "\n",
       "    .dataframe tbody tr th {\n",
       "        vertical-align: top;\n",
       "    }\n",
       "\n",
       "    .dataframe thead th {\n",
       "        text-align: right;\n",
       "    }\n",
       "</style>\n",
       "<table border=\"1\" class=\"dataframe\">\n",
       "  <thead>\n",
       "    <tr style=\"text-align: right;\">\n",
       "      <th></th>\n",
       "      <th>username</th>\n",
       "      <th>retweetcount</th>\n",
       "      <th>text</th>\n",
       "      <th>hashtags</th>\n",
       "      <th>created_at</th>\n",
       "      <th>account_created</th>\n",
       "      <th>following</th>\n",
       "      <th>followers</th>\n",
       "    </tr>\n",
       "  </thead>\n",
       "  <tbody>\n",
       "    <tr>\n",
       "      <th>0</th>\n",
       "      <td>Avad_S</td>\n",
       "      <td>6</td>\n",
       "      <td>Black &amp;amp; Asian students were beaten &amp;amp; h...</td>\n",
       "      <td>[Ukraine]</td>\n",
       "      <td>2022-02-28 23:37:58+00:00</td>\n",
       "      <td>2015-07-12 23:43:24+00:00</td>\n",
       "      <td>667</td>\n",
       "      <td>75</td>\n",
       "    </tr>\n",
       "    <tr>\n",
       "      <th>1</th>\n",
       "      <td>0ttwiitterr0</td>\n",
       "      <td>0</td>\n",
       "      <td>@Xinhua_88 #Russia needs support from big anti...</td>\n",
       "      <td>[Russia, Asians, SupportRussia, StandWithRussi...</td>\n",
       "      <td>2022-02-28 23:35:38+00:00</td>\n",
       "      <td>2019-03-01 11:00:07+00:00</td>\n",
       "      <td>229</td>\n",
       "      <td>67</td>\n",
       "    </tr>\n",
       "    <tr>\n",
       "      <th>2</th>\n",
       "      <td>Nagkrish2</td>\n",
       "      <td>26</td>\n",
       "      <td>Hard White Ukrainian govt,is preventing black ...</td>\n",
       "      <td>[]</td>\n",
       "      <td>2022-02-28 23:33:32+00:00</td>\n",
       "      <td>2019-03-10 21:56:24+00:00</td>\n",
       "      <td>266</td>\n",
       "      <td>133</td>\n",
       "    </tr>\n",
       "    <tr>\n",
       "      <th>3</th>\n",
       "      <td>Nagkrish2</td>\n",
       "      <td>46</td>\n",
       "      <td>The #Ukrainian police has come down on brutali...</td>\n",
       "      <td>[Ukrainian]</td>\n",
       "      <td>2022-02-28 23:32:37+00:00</td>\n",
       "      <td>2019-03-10 21:56:24+00:00</td>\n",
       "      <td>266</td>\n",
       "      <td>133</td>\n",
       "    </tr>\n",
       "    <tr>\n",
       "      <th>4</th>\n",
       "      <td>0ttwiitterr0</td>\n",
       "      <td>0</td>\n",
       "      <td>@Xinhua_88 Let #Russia fall today and be a #sl...</td>\n",
       "      <td>[Russia, slave, SupportRussia, StandWithRussia]</td>\n",
       "      <td>2022-02-28 23:31:41+00:00</td>\n",
       "      <td>2019-03-01 11:00:07+00:00</td>\n",
       "      <td>229</td>\n",
       "      <td>67</td>\n",
       "    </tr>\n",
       "    <tr>\n",
       "      <th>...</th>\n",
       "      <td>...</td>\n",
       "      <td>...</td>\n",
       "      <td>...</td>\n",
       "      <td>...</td>\n",
       "      <td>...</td>\n",
       "      <td>...</td>\n",
       "      <td>...</td>\n",
       "      <td>...</td>\n",
       "    </tr>\n",
       "    <tr>\n",
       "      <th>495</th>\n",
       "      <td>TroyesDave</td>\n",
       "      <td>46</td>\n",
       "      <td>The #Ukrainian police has come down on brutali...</td>\n",
       "      <td>[Ukrainian]</td>\n",
       "      <td>2022-02-28 07:45:27+00:00</td>\n",
       "      <td>2022-01-13 23:21:33+00:00</td>\n",
       "      <td>44</td>\n",
       "      <td>11</td>\n",
       "    </tr>\n",
       "    <tr>\n",
       "      <th>496</th>\n",
       "      <td>oromariposa06</td>\n",
       "      <td>15</td>\n",
       "      <td>Putin know what is good for his nation, our du...</td>\n",
       "      <td>[RussiaInvadesUkraine, StandWithRussia]</td>\n",
       "      <td>2022-02-28 07:42:24+00:00</td>\n",
       "      <td>2015-07-30 06:07:42+00:00</td>\n",
       "      <td>354</td>\n",
       "      <td>922</td>\n",
       "    </tr>\n",
       "    <tr>\n",
       "      <th>497</th>\n",
       "      <td>oromariposa06</td>\n",
       "      <td>7</td>\n",
       "      <td>Pls, watch Ukrainian war videos where they sai...</td>\n",
       "      <td>[]</td>\n",
       "      <td>2022-02-28 07:41:53+00:00</td>\n",
       "      <td>2015-07-30 06:07:42+00:00</td>\n",
       "      <td>354</td>\n",
       "      <td>922</td>\n",
       "    </tr>\n",
       "    <tr>\n",
       "      <th>498</th>\n",
       "      <td>RudrakshiFarhan</td>\n",
       "      <td>46</td>\n",
       "      <td>The #Ukrainian police has come down on brutali...</td>\n",
       "      <td>[Ukrainian, Ukraine, racism, BlackLivesMatter,...</td>\n",
       "      <td>2022-02-28 07:41:47+00:00</td>\n",
       "      <td>2022-02-12 10:07:29+00:00</td>\n",
       "      <td>25</td>\n",
       "      <td>28</td>\n",
       "    </tr>\n",
       "    <tr>\n",
       "      <th>499</th>\n",
       "      <td>oromariposa06</td>\n",
       "      <td>5</td>\n",
       "      <td>@OffGuardian0 @Russ_Warrior Images of people m...</td>\n",
       "      <td>[]</td>\n",
       "      <td>2022-02-28 07:39:19+00:00</td>\n",
       "      <td>2015-07-30 06:07:42+00:00</td>\n",
       "      <td>354</td>\n",
       "      <td>922</td>\n",
       "    </tr>\n",
       "  </tbody>\n",
       "</table>\n",
       "<p>500 rows × 8 columns</p>\n",
       "</div>"
      ],
      "text/plain": [
       "            username retweetcount  \\\n",
       "0             Avad_S            6   \n",
       "1       0ttwiitterr0            0   \n",
       "2          Nagkrish2           26   \n",
       "3          Nagkrish2           46   \n",
       "4       0ttwiitterr0            0   \n",
       "..               ...          ...   \n",
       "495       TroyesDave           46   \n",
       "496    oromariposa06           15   \n",
       "497    oromariposa06            7   \n",
       "498  RudrakshiFarhan           46   \n",
       "499    oromariposa06            5   \n",
       "\n",
       "                                                  text  \\\n",
       "0    Black &amp; Asian students were beaten &amp; h...   \n",
       "1    @Xinhua_88 #Russia needs support from big anti...   \n",
       "2    Hard White Ukrainian govt,is preventing black ...   \n",
       "3    The #Ukrainian police has come down on brutali...   \n",
       "4    @Xinhua_88 Let #Russia fall today and be a #sl...   \n",
       "..                                                 ...   \n",
       "495  The #Ukrainian police has come down on brutali...   \n",
       "496  Putin know what is good for his nation, our du...   \n",
       "497  Pls, watch Ukrainian war videos where they sai...   \n",
       "498  The #Ukrainian police has come down on brutali...   \n",
       "499  @OffGuardian0 @Russ_Warrior Images of people m...   \n",
       "\n",
       "                                              hashtags  \\\n",
       "0                                            [Ukraine]   \n",
       "1    [Russia, Asians, SupportRussia, StandWithRussi...   \n",
       "2                                                   []   \n",
       "3                                          [Ukrainian]   \n",
       "4      [Russia, slave, SupportRussia, StandWithRussia]   \n",
       "..                                                 ...   \n",
       "495                                        [Ukrainian]   \n",
       "496            [RussiaInvadesUkraine, StandWithRussia]   \n",
       "497                                                 []   \n",
       "498  [Ukrainian, Ukraine, racism, BlackLivesMatter,...   \n",
       "499                                                 []   \n",
       "\n",
       "                   created_at           account_created following followers  \n",
       "0   2022-02-28 23:37:58+00:00 2015-07-12 23:43:24+00:00       667        75  \n",
       "1   2022-02-28 23:35:38+00:00 2019-03-01 11:00:07+00:00       229        67  \n",
       "2   2022-02-28 23:33:32+00:00 2019-03-10 21:56:24+00:00       266       133  \n",
       "3   2022-02-28 23:32:37+00:00 2019-03-10 21:56:24+00:00       266       133  \n",
       "4   2022-02-28 23:31:41+00:00 2019-03-01 11:00:07+00:00       229        67  \n",
       "..                        ...                       ...       ...       ...  \n",
       "495 2022-02-28 07:45:27+00:00 2022-01-13 23:21:33+00:00        44        11  \n",
       "496 2022-02-28 07:42:24+00:00 2015-07-30 06:07:42+00:00       354       922  \n",
       "497 2022-02-28 07:41:53+00:00 2015-07-30 06:07:42+00:00       354       922  \n",
       "498 2022-02-28 07:41:47+00:00 2022-02-12 10:07:29+00:00        25        28  \n",
       "499 2022-02-28 07:39:19+00:00 2015-07-30 06:07:42+00:00       354       922  \n",
       "\n",
       "[500 rows x 8 columns]"
      ]
     },
     "execution_count": 331,
     "metadata": {},
     "output_type": "execute_result"
    }
   ],
   "source": [
    "# examine data in dataframe2\n",
    "TWDF2"
   ]
  },
  {
   "cell_type": "code",
   "execution_count": 332,
   "id": "8e504e97",
   "metadata": {},
   "outputs": [
    {
     "data": {
      "text/plain": [
       "559.17"
      ]
     },
     "execution_count": 332,
     "metadata": {},
     "output_type": "execute_result"
    }
   ],
   "source": [
    "# Question 1: Comparing Retweets, Followers, and Following Summary Statistics\n",
    "# Calculate the average retweet counts for #SupportUkraine\n",
    "Mean_Retweets_Ukr = TWDF['retweetcount'].mean()\n",
    "Mean_Retweets_Ukr"
   ]
  },
  {
   "cell_type": "code",
   "execution_count": 333,
   "id": "0709686c",
   "metadata": {},
   "outputs": [
    {
     "data": {
      "text/plain": [
       "18.368"
      ]
     },
     "execution_count": 333,
     "metadata": {},
     "output_type": "execute_result"
    }
   ],
   "source": [
    "# Calculate the average retweet counts for #SupportRussia\n",
    "Mean_Retweets_Rus = TWDF2['retweetcount'].mean()\n",
    "Mean_Retweets_Rus"
   ]
  },
  {
   "cell_type": "code",
   "execution_count": 334,
   "id": "5e616b7f",
   "metadata": {},
   "outputs": [
    {
     "data": {
      "text/plain": [
       "4077.874"
      ]
     },
     "execution_count": 334,
     "metadata": {},
     "output_type": "execute_result"
    }
   ],
   "source": [
    "# Calculate the average followers counts for #SupportUkraine\n",
    "Mean_Followers_Ukr = TWDF['followers'].mean()\n",
    "Mean_Followers_Ukr"
   ]
  },
  {
   "cell_type": "code",
   "execution_count": 335,
   "id": "8173e2dc",
   "metadata": {},
   "outputs": [
    {
     "data": {
      "text/plain": [
       "411.738"
      ]
     },
     "execution_count": 335,
     "metadata": {},
     "output_type": "execute_result"
    }
   ],
   "source": [
    "# Calculate the average followers counts for #SupportRussia\n",
    "Mean_Followers_Rus = TWDF2['followers'].mean()\n",
    "Mean_Followers_Rus"
   ]
  },
  {
   "cell_type": "code",
   "execution_count": 336,
   "id": "e8842403",
   "metadata": {},
   "outputs": [
    {
     "data": {
      "text/plain": [
       "3029.202"
      ]
     },
     "execution_count": 336,
     "metadata": {},
     "output_type": "execute_result"
    }
   ],
   "source": [
    "# Calculate the average following counts for #SupportUkraine\n",
    "Mean_Following_Ukr = TWDF['following'].mean()\n",
    "Mean_Following_Ukr"
   ]
  },
  {
   "cell_type": "code",
   "execution_count": 337,
   "id": "97290032",
   "metadata": {},
   "outputs": [
    {
     "data": {
      "text/plain": [
       "348.822"
      ]
     },
     "execution_count": 337,
     "metadata": {},
     "output_type": "execute_result"
    }
   ],
   "source": [
    "# Calculate the average following counts for #SupportRussia\n",
    "Mean_Following_Rus = TWDF2['following'].mean()\n",
    "Mean_Following_Rus"
   ]
  },
  {
   "cell_type": "code",
   "execution_count": 338,
   "id": "a8d51f3c",
   "metadata": {},
   "outputs": [
    {
     "data": {
      "text/plain": [
       "30.442617595818817"
      ]
     },
     "execution_count": 338,
     "metadata": {},
     "output_type": "execute_result"
    }
   ],
   "source": [
    "# Find ratio of average retweet counts Ukr / Rus of the 1000 tweets we pulled, 500 #SupportUkraine and 500 #SupportRussia\n",
    "Mean_Retweets_Ratio_UkrRus = Mean_Retweets_Ukr / Mean_Retweets_Rus\n",
    "Mean_Retweets_Ratio_UkrRus"
   ]
  },
  {
   "cell_type": "code",
   "execution_count": 339,
   "id": "62a6b02f",
   "metadata": {},
   "outputs": [
    {
     "data": {
      "text/plain": [
       "0.03284868644598244"
      ]
     },
     "execution_count": 339,
     "metadata": {},
     "output_type": "execute_result"
    }
   ],
   "source": [
    "# Find ratio of average retweet counts Rus / Ukr of the 1000 tweets we pulled, 500 #SupportUkraine and 500 #SupportRussia\n",
    "Mean_Retweets_Ratio_RusUkr = Mean_Retweets_Rus / Mean_Retweets_Ukr\n",
    "Mean_Retweets_Ratio_RusUkr"
   ]
  },
  {
   "cell_type": "code",
   "execution_count": 340,
   "id": "0da923ab",
   "metadata": {},
   "outputs": [
    {
     "data": {
      "text/plain": [
       "9.904050634141129"
      ]
     },
     "execution_count": 340,
     "metadata": {},
     "output_type": "execute_result"
    }
   ],
   "source": [
    "# Find ratio of average Followers counts Ukr / Rus of the 1000 tweets we pulled, 500 #SupportUkraine and 500 #SupportRussia\n",
    "Mean_Followers_Ratio = Mean_Followers_Ukr / Mean_Followers_Rus\n",
    "Mean_Followers_Ratio"
   ]
  },
  {
   "cell_type": "code",
   "execution_count": 341,
   "id": "d822ff4b",
   "metadata": {},
   "outputs": [
    {
     "data": {
      "text/plain": [
       "0.10096878912884509"
      ]
     },
     "execution_count": 341,
     "metadata": {},
     "output_type": "execute_result"
    }
   ],
   "source": [
    "# Find ratio of average Followers counts Rus / Ukr of the 1000 tweets we pulled, 500 #SupportUkraine and 500 #SupportRussia\n",
    "Mean_Followers_Ratio_RusUkr = Mean_Followers_Rus / Mean_Followers_Ukr\n",
    "Mean_Followers_Ratio_RusUkr"
   ]
  },
  {
   "cell_type": "code",
   "execution_count": 342,
   "id": "70493189",
   "metadata": {},
   "outputs": [
    {
     "data": {
      "text/plain": [
       "8.68409102636875"
      ]
     },
     "execution_count": 342,
     "metadata": {},
     "output_type": "execute_result"
    }
   ],
   "source": [
    "# Find ratio of average Following counts Ukr / Rus of the 1000 tweets we pulled, 500 #SupportUkraine and 500 #SupportRussia\n",
    "Mean_Following_Ratio = Mean_Following_Ukr / Mean_Following_Rus\n",
    "Mean_Following_Ratio"
   ]
  },
  {
   "cell_type": "code",
   "execution_count": 343,
   "id": "c56cf436",
   "metadata": {},
   "outputs": [
    {
     "data": {
      "text/plain": [
       "0.11515309972725489"
      ]
     },
     "execution_count": 343,
     "metadata": {},
     "output_type": "execute_result"
    }
   ],
   "source": [
    "# Find ratio of average Following counts Rus / Ukr of the 1000 tweets we pulled, 500 #SupportUkraine and 500 #SupportRussia\n",
    "Mean_Following_Ratio_RusUkr = Mean_Following_Rus / Mean_Following_Ukr\n",
    "Mean_Following_Ratio_RusUkr"
   ]
  },
  {
   "cell_type": "code",
   "execution_count": 344,
   "id": "94a9dffa",
   "metadata": {},
   "outputs": [
    {
     "data": {
      "text/plain": [
       "Timestamp('2016-01-21 18:42:38.404000+0000', tz='UTC')"
      ]
     },
     "execution_count": 344,
     "metadata": {},
     "output_type": "execute_result"
    }
   ],
   "source": [
    "# Question 2: Compare account creation dates on average and by counts in the following increments, two weeks, one month, three months, six months\n",
    "# Calculate the average account created date for #SupportUkraine\n",
    "Mean_AccountCr_Ukr = TWDF['account_created'].mean()\n",
    "Mean_AccountCr_Ukr"
   ]
  },
  {
   "cell_type": "code",
   "execution_count": 345,
   "id": "6cafa79a",
   "metadata": {},
   "outputs": [
    {
     "data": {
      "text/plain": [
       "Timestamp('2019-05-15 05:54:48.382000128+0000', tz='UTC')"
      ]
     },
     "execution_count": 345,
     "metadata": {},
     "output_type": "execute_result"
    }
   ],
   "source": [
    "# Calculate the average account created date for #SupportRussia\n",
    "Mean_AccountCr_Rus = TWDF2['account_created'].mean()\n",
    "Mean_AccountCr_Rus"
   ]
  },
  {
   "cell_type": "code",
   "execution_count": 346,
   "id": "55abbdfa",
   "metadata": {},
   "outputs": [
    {
     "data": {
      "text/plain": [
       "20"
      ]
     },
     "execution_count": 346,
     "metadata": {},
     "output_type": "execute_result"
    }
   ],
   "source": [
    "# Calculate the amount of accounts created within two weeks time for #SupportUkraine\n",
    "NAccount_2W_Ukr_df = TWDF[TWDF.account_created.between('2022-02-14', '2022-03-01')]\n",
    "NAccount_2W_Ukr = len(NAccount_2W_Ukr_df.index)\n",
    "NAccount_2W_Ukr"
   ]
  },
  {
   "cell_type": "code",
   "execution_count": 347,
   "id": "1083e8d7",
   "metadata": {},
   "outputs": [
    {
     "data": {
      "text/plain": [
       "19"
      ]
     },
     "execution_count": 347,
     "metadata": {},
     "output_type": "execute_result"
    }
   ],
   "source": [
    "# Calculate the amount of accounts created within two weeks time for #SupportRussia\n",
    "NAccount_2W_Rus_df = TWDF2[TWDF2.account_created.between('2022-02-14', '2022-03-01')]\n",
    "NAccount_2W_Rus = len(NAccount_2W_Rus_df.index)\n",
    "NAccount_2W_Rus"
   ]
  },
  {
   "cell_type": "code",
   "execution_count": 348,
   "id": "ab7f5b87",
   "metadata": {},
   "outputs": [
    {
     "data": {
      "text/plain": [
       "22"
      ]
     },
     "execution_count": 348,
     "metadata": {},
     "output_type": "execute_result"
    }
   ],
   "source": [
    "# Calculate the amount of accounts created within one months time for #SupportUkraine\n",
    "NAccount_1M_Ukr_df = TWDF[TWDF.account_created.between('2022-01-31', '2022-03-01')]\n",
    "NAccount_1M_Ukr = len(NAccount_1M_Ukr_df.index)\n",
    "NAccount_1M_Ukr"
   ]
  },
  {
   "cell_type": "code",
   "execution_count": 349,
   "id": "4ac23b0f",
   "metadata": {},
   "outputs": [
    {
     "data": {
      "text/plain": [
       "33"
      ]
     },
     "execution_count": 349,
     "metadata": {},
     "output_type": "execute_result"
    }
   ],
   "source": [
    "# Calculate the amount of accounts created within one months time for #SupportRussia\n",
    "NAccount_1M_Rus_df = TWDF2[TWDF2.account_created.between('2022-01-31', '2022-03-01')]\n",
    "NAccount_1M_Rus = len(NAccount_1M_Rus_df.index)\n",
    "NAccount_1M_Rus"
   ]
  },
  {
   "cell_type": "code",
   "execution_count": 350,
   "id": "46d0f4f6",
   "metadata": {},
   "outputs": [
    {
     "data": {
      "text/plain": [
       "39"
      ]
     },
     "execution_count": 350,
     "metadata": {},
     "output_type": "execute_result"
    }
   ],
   "source": [
    "# Calculate the amount of accounts created within three months time for #SupportUkraine\n",
    "NAccount_3M_Ukr_df = TWDF[TWDF.account_created.between('2021-12-06', '2022-03-01')]\n",
    "NAccount_3M_Ukr = len(NAccount_3M_Ukr_df.index)\n",
    "NAccount_3M_Ukr"
   ]
  },
  {
   "cell_type": "code",
   "execution_count": 351,
   "id": "03ca5b5d",
   "metadata": {},
   "outputs": [
    {
     "data": {
      "text/plain": [
       "46"
      ]
     },
     "execution_count": 351,
     "metadata": {},
     "output_type": "execute_result"
    }
   ],
   "source": [
    "# Calculate the amount of accounts created within three months time for #SupportRussia\n",
    "NAccount_3M_Rus_df = TWDF2[TWDF2.account_created.between('2021-12-06', '2022-03-01')]\n",
    "NAccount_3M_Rus = len(NAccount_3M_Rus_df.index)\n",
    "NAccount_3M_Rus"
   ]
  },
  {
   "cell_type": "code",
   "execution_count": 352,
   "id": "a120ec02",
   "metadata": {},
   "outputs": [
    {
     "data": {
      "text/plain": [
       "59"
      ]
     },
     "execution_count": 352,
     "metadata": {},
     "output_type": "execute_result"
    }
   ],
   "source": [
    "# Calculate the amount of accounts created within six months time for #SupportUkraine\n",
    "NAccount_6M_Ukr_df = TWDF[TWDF.account_created.between('2021-09-13', '2022-03-01')]\n",
    "NAccount_6M_Ukr = len(NAccount_6M_Ukr_df.index)\n",
    "NAccount_6M_Ukr"
   ]
  },
  {
   "cell_type": "code",
   "execution_count": 353,
   "id": "c16958ec",
   "metadata": {},
   "outputs": [
    {
     "data": {
      "text/plain": [
       "82"
      ]
     },
     "execution_count": 353,
     "metadata": {},
     "output_type": "execute_result"
    }
   ],
   "source": [
    "# Calculate the amount of accounts created within six months time for #SupportRussia\n",
    "NAccount_6M_Rus_df = TWDF2[TWDF2.account_created.between('2021-09-13', '2022-03-01')]\n",
    "NAccount_6M_Rus = len(NAccount_6M_Rus_df.index)\n",
    "NAccount_6M_Rus"
   ]
  },
  {
   "cell_type": "code",
   "execution_count": null,
   "id": "12b76347",
   "metadata": {},
   "outputs": [],
   "source": []
  },
  {
   "cell_type": "code",
   "execution_count": null,
   "id": "94831b45",
   "metadata": {},
   "outputs": [],
   "source": []
  }
 ],
 "metadata": {
  "kernelspec": {
   "display_name": "Python 3 (ipykernel)",
   "language": "python",
   "name": "python3"
  },
  "language_info": {
   "codemirror_mode": {
    "name": "ipython",
    "version": 3
   },
   "file_extension": ".py",
   "mimetype": "text/x-python",
   "name": "python",
   "nbconvert_exporter": "python",
   "pygments_lexer": "ipython3",
   "version": "3.9.7"
  }
 },
 "nbformat": 4,
 "nbformat_minor": 5
}
